{
  "cells": [
    {
      "cell_type": "markdown",
      "id": "f7c24d5d-9973-45a1-83be-8bca8b03e576",
      "metadata": {
        "id": "f7c24d5d-9973-45a1-83be-8bca8b03e576"
      },
      "source": [
        "# Assignment: Programming Review\n",
        "## Do Q1 and one other question."
      ]
    },
    {
      "cell_type": "markdown",
      "id": "4a3fb7b5-0345-447d-840a-59f667fe9c0c",
      "metadata": {
        "id": "4a3fb7b5-0345-447d-840a-59f667fe9c0c"
      },
      "source": [
        "**Q1.** First, think about your priorities in life. What kind of salary do you want to make after graduation? Do you mind getting more schooling? What kind of work-life balance are you looking for? Where do you want to work, geographically? You don't have to write this down here, just think about it.\n",
        "\n",
        "1. Go to the Occupational Outlook Handbook at [https://www.bls.gov/ooh/](https://www.bls.gov/ooh/). Look up \"Data Scientist.\" Read about the job and start collecting data about it from the job profile (e.g. salary, education required, work setting)\n",
        "2. Find 7-10 other jobs that appeal to you, and collect the same data as you did for Data Scientist. Put it all in a spreadsheet.\n",
        "3. Do any of your findings surprise you?\n",
        "4. Rank the jobs you picked from best to worst, and briefly explain why you did so.\n",
        "5. Please submit your spreadsheet with the assignment --- you can \"de-identify\" it and remove anything that you find personally identifying or you don't want to share, of course. We'll play with these data later.\n"
      ]
    },
    {
      "cell_type": "markdown",
      "source": [
        "*The survey researcher job having a median pay of $60,960 and requiring a master's degree was what I found most shocking. With the lower amount of jobs available compared to the other jobs I searched, I thought these professionals would be in higher demand and receive more pay. However, I infer niche careers pay less.  \n",
        "If I were to rank the jobs, I would put Data Scientist, Market Research Analyst, and Operation Research Analyst first because these jobs are \"multifaceted\"(you can research or be in more than one industry). I would put psychologist and psychiatrist second because I do enjoy psychology, and I would love a client-focused job, however, I am more introverted. I would put lawyer and nurse practitioner third because they are fields I have thought about but never seriously considered. I would put lab technician and survey researcher fourth because I am investigative and would love to perform research but the pays for these jobs are low for the value of the job.*"
      ],
      "metadata": {
        "id": "TEGYg52Tb7Gu"
      },
      "id": "TEGYg52Tb7Gu"
    },
    {
      "cell_type": "markdown",
      "id": "7e9d65ad-3740-43d3-a944-b3653fbeb80c",
      "metadata": {
        "id": "7e9d65ad-3740-43d3-a944-b3653fbeb80c"
      },
      "source": [
        "Depends on student opinions."
      ]
    },
    {
      "cell_type": "markdown",
      "id": "7cfa75b2-aaef-4368-a043-93437887879c",
      "metadata": {
        "id": "7cfa75b2-aaef-4368-a043-93437887879c"
      },
      "source": [
        "**Q2.** Being able to make basic plots to visualize sets of points is really helpful, particularly with data analysis. The pyplot plots are built up slowly by defining elements of the plot, and then using `plt.show()` to create the final plot. This question gives you some practice doing that **iterative** building process.\n",
        "\n",
        "1. Import the `numpy` module as `np` and the `matplotlib.pyplot` package as `plt`.\n",
        "2. Use `np.linspace` to create a grid of 50 points ranging from 0 to 1.\n",
        "3. Create a numpy array $y$ containing the values for the natural logarithm function using the `np.log(x)` function. Create a numpy array $z$ containing the values for the exponential function using the `np.exp(x)` function.\n",
        "4. Use the `plt.scatter(x,y)` method for the $y$ and $z$ vectors to create two scatter plots of the points you've created.\n",
        "5. Use the `plt.show()` method to create the plot.\n",
        "\n",
        "That plot has some problems.\n",
        "\n",
        "6. Before the `plt.show()` call, add labels to the $x$ and $y$ axes using `plt.xlabel(label)` and `plt.ylabel(label)`. Add a title to the graph using `plt.title(title)`, like \"Natural Log and Exponential Functions\".\n",
        "7. That looks a lot better, but we need a legend. When you screate the scatter plots, add the argument `label='Natural Log'` or `label='Exponential'` to the `.scatter` method call. Before the `plt.show()` call, add a `plt.legend(loc = 'lower right')` method call, which creates a legend in the lower right.\n",
        "\n",
        "Now do it again, with slightly less direction:\n",
        "\n",
        "8. Create a grid of 100 equally spaced points ranging from -6.5 to 6.5.\n",
        "9. Use the sine and cosine functions in Numpy to compute the values of those functions for each point on your grid. (You'll have to find out what those functions are.)\n",
        "10. Plot the values of the two functions for the values on the grid on the same plot.\n",
        "11. The scatter plot looks really noisy. Instead of `plt.scatter(x,y)` to make a scatter plot, use `plt.plot(x,y)` to make a line graph.\n",
        "12. Make the plot again, with labels for the axes, a title, and a legend in the lower left instead of the lower right.\n"
      ]
    },
    {
      "cell_type": "code",
      "execution_count": 17,
      "id": "9c05ee86-06dc-4ae9-896d-0cb70c4d6c3d",
      "metadata": {
        "id": "9c05ee86-06dc-4ae9-896d-0cb70c4d6c3d",
        "outputId": "46233ca6-07a7-4ee0-cc14-8b9652562f77",
        "colab": {
          "base_uri": "https://localhost:8080/"
        }
      },
      "outputs": [
        {
          "output_type": "stream",
          "name": "stdout",
          "text": [
            "[0.         0.02040816 0.04081633 0.06122449 0.08163265 0.10204082\n",
            " 0.12244898 0.14285714 0.16326531 0.18367347 0.20408163 0.2244898\n",
            " 0.24489796 0.26530612 0.28571429 0.30612245 0.32653061 0.34693878\n",
            " 0.36734694 0.3877551  0.40816327 0.42857143 0.44897959 0.46938776\n",
            " 0.48979592 0.51020408 0.53061224 0.55102041 0.57142857 0.59183673\n",
            " 0.6122449  0.63265306 0.65306122 0.67346939 0.69387755 0.71428571\n",
            " 0.73469388 0.75510204 0.7755102  0.79591837 0.81632653 0.83673469\n",
            " 0.85714286 0.87755102 0.89795918 0.91836735 0.93877551 0.95918367\n",
            " 0.97959184 1.        ]\n",
            "[       -inf -3.8918203  -3.19867312 -2.79320801 -2.50552594 -2.28238239\n",
            " -2.10006083 -1.94591015 -1.81237876 -1.69459572 -1.58923521 -1.49392503\n",
            " -1.40691365 -1.32687094 -1.25276297 -1.1837701  -1.11923158 -1.05860695\n",
            " -1.00144854 -0.94738132 -0.89608802 -0.84729786 -0.80077784 -0.75632608\n",
            " -0.71376647 -0.67294447 -0.63372376 -0.59598343 -0.55961579 -0.52452447\n",
            " -0.49062292 -0.45783309 -0.4260844  -0.39531274 -0.36545977 -0.33647224\n",
            " -0.30830136 -0.28090239 -0.25423414 -0.22825865 -0.20294084 -0.17824823\n",
            " -0.15415068 -0.13062018 -0.10763066 -0.08515781 -0.0631789  -0.0416727\n",
            " -0.02061929  0.        ]\n",
            "[1.         1.02061783 1.04166076 1.06313755 1.08505714 1.10742867\n",
            " 1.13026145 1.15356499 1.17734901 1.20162339 1.22639826 1.25168394\n",
            " 1.27749095 1.30383005 1.3307122  1.3581486  1.38615068 1.41473011\n",
            " 1.44389878 1.47366884 1.5040527  1.53506301 1.56671268 1.5990149\n",
            " 1.63198313 1.66563108 1.69997279 1.73502255 1.77079495 1.80730491\n",
            " 1.84456762 1.88259861 1.92141371 1.9610291  2.00146127 2.04272707\n",
            " 2.08484368 2.12782864 2.17169985 2.2164756  2.26217453 2.30881566\n",
            " 2.35641844 2.40500269 2.45458863 2.50519693 2.55684867 2.60956535\n",
            " 2.66336893 2.71828183]\n"
          ]
        },
        {
          "output_type": "stream",
          "name": "stderr",
          "text": [
            "<ipython-input-17-c80767f7e8ce>:4: RuntimeWarning: divide by zero encountered in log\n",
            "  y= np.log(x)\n"
          ]
        }
      ],
      "source": [
        "# Log and Exponential Functions Plot\n",
        "import numpy as np\n",
        "import matplotlib.pyplot as plt\n",
        "x= np.linspace(0, 1, num=50)\n",
        "y= np.log(x)\n",
        "z= np.exp(x)\n",
        "print(x)\n",
        "print(y)\n",
        "print(z)"
      ]
    },
    {
      "cell_type": "code",
      "source": [
        "plt.scatter(x, y, label= \"Natural Log\")\n",
        "plt.scatter(x, z, label= \"Exponential\")\n",
        "plt.plot(x, y)\n",
        "plt.plot(x, z)\n",
        "plt.xlabel(\"x\")\n",
        "plt.ylabel(\"y\")\n",
        "plt.title(\"Natural Log and Exponential Functions\")\n",
        "plt.legend(loc = 'lower right')\n",
        "plt.show()"
      ],
      "metadata": {
        "id": "3S5ejOuxAKMZ",
        "outputId": "eac055f8-bb58-4941-d4d2-615628739893",
        "colab": {
          "base_uri": "https://localhost:8080/",
          "height": 472
        }
      },
      "id": "3S5ejOuxAKMZ",
      "execution_count": 10,
      "outputs": [
        {
          "output_type": "display_data",
          "data": {
            "text/plain": [
              "<Figure size 640x480 with 1 Axes>"
            ],
            "image/png": "[encoded data removed]"
          },
          "metadata": {}
        }
      ]
    },
    {
      "cell_type": "code",
      "source": [
        "# Sine and Cosine Functions Plot\n",
        "x= np.linspace(-6.5, 6.5, num= 100)\n",
        "s= np.sin(x)\n",
        "c= np.cos(x)"
      ],
      "metadata": {
        "id": "MEx_lgPkC2fK"
      },
      "id": "MEx_lgPkC2fK",
      "execution_count": 15,
      "outputs": []
    },
    {
      "cell_type": "code",
      "source": [
        "plt.plot(x, s, label= 'Sine')\n",
        "plt.plot(x, c, label= 'Cosine')\n",
        "plt.xlabel('x')\n",
        "plt.ylabel('y')\n",
        "plt.title('Sine and Cosine Functions')\n",
        "plt.legend(loc= 'lower left')\n",
        "plt.show()"
      ],
      "metadata": {
        "id": "Y0mFaie3D4dU",
        "outputId": "900a1ca4-cf6d-4811-d833-0334e56459da",
        "colab": {
          "base_uri": "https://localhost:8080/",
          "height": 472
        }
      },
      "id": "Y0mFaie3D4dU",
      "execution_count": 16,
      "outputs": [
        {
          "output_type": "display_data",
          "data": {
            "text/plain": [
              "<Figure size 640x480 with 1 Axes>"
            ],
            "image/png": "[encoded data removed]"
          },
          "metadata": {}
        }
      ]
    },
    {
      "cell_type": "markdown",
      "id": "ab57312f-fd41-4763-b38c-3b7c1b062b1c",
      "metadata": {
        "id": "ab57312f-fd41-4763-b38c-3b7c1b062b1c"
      },
      "source": [
        "**Q3.** This is a basic review of some statistics along with practice writing functions. Like we talked about, Python is a general purpose programming language and ships without basic data handling or statistical packages coded in. The beginning of the code chunk below generates random values for you to test your work on; since the random values are generates as NumPy arrays, you'll need to use the Numpy methods `np.sum(x)` to sum the vector $x$ and `np.sqrt(x)` to take the square roots of the values in $x$, as well as the Python function `len(x)` to get the length of $x$.\n",
        "\n",
        "Try to reuse the functions you've already defined as you work through the following questions, rather than rewriting code you've already written.\n",
        "\n",
        "1. Write a function that computes the **sample average** or **mean** of a vector $x$,\n",
        "$$\n",
        "\\bar{x} = \\dfrac{x_1 + x_2 + ... + x_N}{N} = \\dfrac{\\sum_{i=1}^N x_i}{N}.\n",
        "$$\n",
        "Write a function in the code chunk below to compute this quantity, and then use it to compute the mean of $x$.\n",
        "2. Write a function that computes the **sample standard deviation** of a vector $x$,\n",
        "$$\n",
        "s_x = \\sqrt{\\dfrac{(x_1 - \\bar{x})^2 + ... (x_N - \\bar{x})^2 }{N-1}} = \\sqrt{\\dfrac{ \\sum_{i=1}^N (x_i - \\bar{x})^2 }{N-1}}.\n",
        "$$\n",
        "The intuition of this quantity is that it computes roughly the average distance from each point $x_i$ to the sample mean $\\bar{x}$. If it is small, it means all the points are clustered tightly around the mean, and if it is large, it means the points are typically far away from the average. Write a function in the code chunk below to compute this quantity, and then use it to compute the sample standard deviation of $x$.\n",
        "3. Write a function that calls the previous two to **standardize** the values of the vector as a **$z$-score**:\n",
        "$$\n",
        "z = \\dfrac{x-\\bar{x}}{s}.\n",
        "$$\n",
        "The intuition of this quantity is that it is recentering all the values of $x$ so the average is zero and then scaling them by the standard deviation. If the data are normally distributed and $N$ is large, the $z$ score will approximately follow a standard normal distribution. Write a function in the code chunk below to compute this quantity, and then use it to compute the z-scores for $x$.\n",
        "4. The **sample covariance** of two vectors $x=(x_1,...,x_N)$ and $y=(y_1,...,y_N)$ is defined as\n",
        "$$\n",
        "cov(x,y) = \\dfrac{(x_1 - \\bar{x})(y_1-\\bar{y}) + (x_2 - \\bar{x})(y_2-\\bar{y}) + ... + (x_N - \\bar{x})(y_{N}-\\bar{y})}{N-1}\n",
        "$$\n",
        "$$\n",
        "= \\dfrac{\\sum_{i=1}^N (x_i - \\bar{x})(y_i - \\bar{y})}{N-1}.\n",
        "$$\n",
        "The intuition of this quantity is that it looks at the pairs $(x_i, y_i)$ and compares them to the means $(\\bar{x},\\bar{y})$ to determine whether $x$ and $y$ tend to co-vary in the same direction relative to their means: If the values of $x$ and $y$ are typically both above or below the mean values of $x$ and $y$, then $x$ and $y$ will have a positive covariance, but if $x$ is typically above the mean of $x$ when $y$ is typically below the mean of $y$ or vice versa, then they will have a negative covariance. Write a function in the code chunk below to compute this quantity, and then use it to compute the covariance of the generated $x$ and $y$.\n",
        "6. The **sample correlation coefficient** of two vectors $x$ and $y$ is defined as\n",
        "$$\n",
        "r_{xy} = \\dfrac{cov(x,y)}{s_x s_y}\n",
        "$$\n",
        "Use your functions to create a new function that compute this quantity. The intuition of this quantity is that it is like the covariance, but normalized so that its values like between -1 and 1: perfect negative linear association between the variables at -1, no association at 0, and perfect positive linear association between the variables at 1."
      ]
    },
    {
      "cell_type": "code",
      "execution_count": 40,
      "id": "f42ab788-af0c-47a4-a103-46c9a37bfad3",
      "metadata": {
        "id": "f42ab788-af0c-47a4-a103-46c9a37bfad3"
      },
      "outputs": [],
      "source": [
        "import numpy as np\n",
        "import math as math\n",
        "np.random.seed(100) # Set the seed for the random number generator\n",
        "rho, sigma_x, sigma_y = -.4, 3, 2 # Variance-Covariance Parameters\n",
        "vcv = np.array([[sigma_x**2, rho*sigma_x*sigma_y],\n",
        "                [rho*sigma_x*sigma_y,sigma_y**2]]) # VCV Matrix\n",
        "mu = np.array([-1,2]) # Population averages\n",
        "sample = np.random.multivariate_normal(mu,vcv,200) # Multivariate normal draws\n",
        "x = sample[:,0]\n",
        "y = sample[:,1]\n",
        "\n",
        "#############################################################################"
      ]
    },
    {
      "cell_type": "code",
      "source": [
        "print(y)"
      ],
      "metadata": {
        "id": "wLCnA4wCv6kh",
        "outputId": "69e48ef0-e2bd-4c08-8910-2a5e764e69dd",
        "colab": {
          "base_uri": "https://localhost:8080/"
        }
      },
      "id": "wLCnA4wCv6kh",
      "execution_count": 59,
      "outputs": [
        {
          "output_type": "stream",
          "name": "stdout",
          "text": [
            "[ 4.92147160e-01  2.95060124e+00  3.98725952e+00  5.31321183e-01\n",
            "  2.18883176e+00  2.16359351e+00  2.63247723e+00  2.62389311e+00\n",
            "  3.03815841e+00 -3.23530852e-01  6.39892633e+00  3.41775170e-01\n",
            "  3.73181455e+00  5.06169105e+00  1.70558859e+00 -7.03224511e-02\n",
            "  2.42829147e+00  2.14735871e+00  6.69484150e-01 -1.58989282e+00\n",
            "  2.78693251e-01  1.01805617e+00  7.30590015e-01  1.41918239e+00\n",
            "  2.47560886e+00 -2.88214489e-01 -4.45616136e-01  2.94893230e+00\n",
            "  3.00333563e+00  4.68315095e-01  9.91146766e-01  2.30213510e+00\n",
            " -1.61458968e+00  3.91208209e+00  8.95421743e-01  4.22265736e-01\n",
            "  4.95248874e-01  3.50726587e+00  7.72005580e-01  8.99053032e-01\n",
            "  3.92320679e+00  1.61657345e+00  3.60970583e+00  2.17398679e+00\n",
            " -6.20416406e-01  5.86569921e-01  3.60195655e+00  4.16334773e+00\n",
            "  1.91682147e+00 -2.23744482e+00 -1.84479478e+00 -1.44945334e+00\n",
            "  9.79223752e-01  2.19193216e+00  1.15797094e+00  6.26285181e-01\n",
            " -4.15892955e-01 -4.84687639e-01  4.98947898e+00 -5.24951928e-01\n",
            "  3.49244275e+00 -1.41913397e+00 -5.90758583e-01  3.08681287e+00\n",
            "  4.28178614e+00 -1.69410633e+00  5.06627620e+00  3.11621077e-01\n",
            "  3.98043986e-01  3.57460971e+00 -7.02792245e-01  2.21055013e+00\n",
            "  3.88981783e+00  2.50682993e+00  1.66416403e+00  4.44138676e+00\n",
            "  2.98573815e+00 -2.31689655e-01  2.84022978e+00  2.91771128e+00\n",
            "  1.11166007e+00  2.86299576e-01  1.95045857e+00  3.68771425e+00\n",
            " -5.02932463e-01 -3.68234221e-01  1.15513812e+00  5.06775888e+00\n",
            "  2.58980446e+00 -6.85392543e-01  1.04470316e+00  7.29599483e-01\n",
            "  3.08522170e+00  2.14308590e-01  3.57276088e+00  4.92172999e+00\n",
            "  6.73693194e+00  2.51193150e+00  3.43805179e+00  3.84029459e+00\n",
            "  1.24631974e+00  1.99121501e+00  4.23431889e+00  8.30393560e-01\n",
            "  1.79178805e+00  2.01646461e+00  2.51511551e-01  1.14180558e+00\n",
            "  2.24114293e+00  6.15071898e+00  6.82018231e+00  2.99006786e+00\n",
            " -6.69210466e-01  1.08598477e+00  1.53362124e+00  3.20301888e-01\n",
            " -2.89499780e-01  1.12984512e+00  4.82437974e+00 -1.23629903e+00\n",
            "  3.77283753e+00  8.17085331e-01  5.22659761e+00  7.52444481e-01\n",
            "  3.50281665e+00  2.30077015e+00  4.10514055e+00  3.29944893e+00\n",
            "  3.19074372e+00  6.23569701e+00 -5.70517713e-01  2.78504340e+00\n",
            "  1.53027793e+00  9.98233955e-01  2.69794604e+00  4.48215232e+00\n",
            "  1.65874957e+00  5.00400329e+00  7.13847036e-01  2.44037332e+00\n",
            "  6.92940213e+00  5.58684884e+00 -9.38685970e-03  2.61100474e+00\n",
            "  3.02199197e-01  2.07137642e+00  9.54761448e-01  7.92550777e-01\n",
            "  5.90088518e-01  7.82659265e-02  1.26867851e+00  1.11273968e+01\n",
            "  5.52609478e+00  3.63006475e+00  8.45790287e-01  2.81960189e+00\n",
            "  4.60923838e+00  3.46393357e+00  4.64683991e+00  3.49445753e+00\n",
            "  3.18916145e+00  8.24571476e-01  2.65873561e+00  1.06230884e+00\n",
            "  2.19975496e+00  4.35428759e-01  1.54899374e+00 -2.36365969e+00\n",
            "  5.63315175e+00  2.01808086e+00  3.51384738e+00  5.16165832e+00\n",
            "  1.33294178e+00  2.78801392e+00 -1.21804531e+00  5.95200199e-01\n",
            "  1.79779413e+00  2.61532904e+00  3.11076349e+00  1.32579837e+00\n",
            "  3.58214856e+00  1.57122662e+00  4.69578795e+00  2.38965223e+00\n",
            " -8.60581389e-02  2.00388746e+00 -2.36545312e-01  8.74018489e-01\n",
            "  5.76208120e+00  4.25696304e-01  9.95121781e-01  7.45420989e-01\n",
            " -6.70858251e-02  3.69335558e+00  2.67176995e+00  1.67847705e+00\n",
            "  1.38359093e+00  2.41591548e+00  8.52826887e-01 -1.88624757e-01]\n"
          ]
        }
      ]
    },
    {
      "cell_type": "code",
      "source": [
        "print(x)"
      ],
      "metadata": {
        "id": "v_ZDYDgHp_vU",
        "outputId": "2ef20dc8-1387-4d30-8e2d-ba81279f9997",
        "colab": {
          "base_uri": "https://localhost:8080/"
        }
      },
      "id": "v_ZDYDgHp_vU",
      "execution_count": 41,
      "outputs": [
        {
          "output_type": "stream",
          "name": "stdout",
          "text": [
            "[ 4.34733733e+00 -4.54102137e+00 -3.53966495e+00 -2.34347709e+00\n",
            " -2.79229779e-01  6.24352953e-01  1.24026267e+00 -3.03808195e+00\n",
            "  1.22546019e+00 -4.43927503e-01 -4.73920802e+00 -8.10046714e-01\n",
            " -9.31138636e-01 -2.25563971e+00 -8.34795635e-03 -2.58967562e+00\n",
            "  1.74596121e+00 -3.49426950e+00 -5.58323174e+00  2.17119541e+00\n",
            "  1.60074631e-01 -1.41993551e+00 -5.93337551e+00  2.11226008e+00\n",
            "  4.68189824e+00  2.12191905e+00  1.21481738e+00 -9.88666676e-01\n",
            "  2.33757051e+00 -1.34531781e+00  1.59464101e+00 -1.68776660e+00\n",
            "  3.11106204e+00 -2.31674939e+00 -4.93870935e+00  4.63030960e+00\n",
            " -4.76432153e-01 -7.31681135e+00 -4.04761737e+00 -3.41845081e+00\n",
            " -2.57456428e+00  4.17674260e+00 -3.00251337e+00 -1.30046423e+00\n",
            " -8.46382460e-02  4.23623961e+00 -6.74097040e+00 -6.36322856e+00\n",
            " -7.74777007e-01 -2.07521642e+00  3.25365032e+00  7.72960957e+00\n",
            " -5.63770332e-01 -1.37339845e+00 -2.41867132e+00  2.85859877e+00\n",
            " -5.30154729e-01 -7.56050553e-01 -5.19459749e+00  4.64698811e+00\n",
            "  4.84271009e+00  2.37804489e+00 -1.23001577e+00 -3.79196157e+00\n",
            " -3.12607950e+00  2.61014617e+00 -4.17722422e+00  2.46272281e+00\n",
            "  3.48540685e+00 -2.90853956e+00  2.72763377e+00 -3.56814356e+00\n",
            " -7.29964713e+00  1.30212001e+00 -1.79155346e+00 -7.83948081e+00\n",
            " -2.19011360e+00 -8.09536195e-01 -6.45892239e+00 -4.35230479e+00\n",
            " -1.32710863e+00 -4.25189911e+00 -7.63230847e+00 -7.64214223e-01\n",
            "  4.85016755e+00 -2.97715203e+00 -2.09663029e+00  6.63618253e-01\n",
            " -2.54233071e+00 -6.65454468e-01  3.66135151e-01 -2.94833684e+00\n",
            " -4.77225539e+00  6.78535898e-01 -2.87505035e+00 -5.86776693e+00\n",
            " -3.07725917e+00  7.57330299e-01  1.73275725e-01  1.78194377e+00\n",
            " -3.35989741e+00 -3.01802373e+00 -4.47424986e-01 -6.19216519e+00\n",
            " -2.06503344e+00 -2.78786563e+00 -3.32684641e+00 -2.73257160e+00\n",
            " -2.34389230e+00 -3.55317794e+00  3.19159766e+00 -1.93364155e+00\n",
            " -1.01442395e+00  7.58547374e-01 -4.43028311e+00  2.04871185e+00\n",
            "  1.03916470e-01 -1.65029403e+00 -3.69367307e+00  5.41930958e+00\n",
            "  2.71363300e-01  6.57109601e-01 -3.60638301e+00 -3.89124171e+00\n",
            " -5.57538855e+00  4.00927111e-01 -5.10547207e+00 -3.49049194e-01\n",
            " -8.34506212e+00  3.23563555e-01 -3.40747814e+00 -5.03098059e+00\n",
            "  3.13356262e+00 -3.87527748e-01  1.10682800e+00 -8.71255810e-02\n",
            " -2.39497183e+00 -3.33822508e+00  5.74026430e+00  1.47557377e-01\n",
            " -6.09326131e-01 -6.42735860e+00  1.98216219e-01 -1.52256001e-01\n",
            " -7.75271325e-01 -6.27719644e+00 -3.99991662e+00 -2.08590860e+00\n",
            " -1.96741054e+00  4.62777312e+00  5.72147512e-01 -8.12611390e+00\n",
            " -5.03724181e+00 -6.62060425e+00 -3.16145872e+00 -2.63341081e+00\n",
            " -1.25620256e+00 -6.09968184e+00 -3.55564080e-01 -3.16476976e-02\n",
            " -3.54208667e+00  3.03428144e+00 -4.80688782e+00  2.49053621e+00\n",
            " -2.11294599e+00  1.59180331e-01  1.98052360e+00  1.85822965e+00\n",
            " -7.80122980e-02 -1.02526623e+01 -2.22779586e+00 -3.00738516e+00\n",
            " -5.19321706e-01 -7.17127469e-01  4.36435997e+00  2.39300043e+00\n",
            " -2.20789375e+00 -3.68040370e+00 -5.62499526e+00 -2.37782422e+00\n",
            " -2.98415989e-01 -7.31519136e-01 -2.60506228e+00  5.35146039e-01\n",
            "  5.41302445e+00  3.32661844e+00  4.67227204e+00  2.67685857e+00\n",
            "  2.46077780e+00 -2.05854198e+00 -3.45629575e+00  3.65525839e+00\n",
            "  4.91809684e+00  2.89980569e-01  7.79053202e-01 -6.02446052e-01\n",
            " -1.05501189e-01 -1.14836512e+00  5.50953746e+00 -1.08772502e+00]\n"
          ]
        }
      ]
    },
    {
      "cell_type": "code",
      "source": [
        "# Testing Numbers\n",
        "a= [9, 10, 11]\n",
        "b= [5, 4, 3]"
      ],
      "metadata": {
        "id": "uj35-jhdkRo-"
      },
      "id": "uj35-jhdkRo-",
      "execution_count": 57,
      "outputs": []
    },
    {
      "cell_type": "code",
      "source": [
        "# Average\n",
        "def sample_average(x):\n",
        "    return np.sum(x)/len(x)\n",
        "print(sample_average(x))\n",
        "print(sample_average(a))"
      ],
      "metadata": {
        "id": "QZx2DoGlPkds",
        "outputId": "7061a749-e24a-4a0f-93aa-a2c73f084aff",
        "colab": {
          "base_uri": "https://localhost:8080/"
        }
      },
      "id": "QZx2DoGlPkds",
      "execution_count": 26,
      "outputs": [
        {
          "output_type": "stream",
          "name": "stdout",
          "text": [
            "-1.0899806430403438\n",
            "10.0\n"
          ]
        }
      ]
    },
    {
      "cell_type": "code",
      "source": [
        "# Standard Deviation\n",
        "def sample_standard_deviation(x):\n",
        "  for i in x:\n",
        "    s= ((i- sample_average(x))**2)\n",
        "    return np.sqrt(s)/len(x)-1\n",
        "print(sample_standard_deviation(x))\n",
        "print(sample_standard_deviation(a))"
      ],
      "metadata": {
        "collapsed": true,
        "id": "Q90M8tw6PNoR",
        "outputId": "c65603fc-74e4-490f-c033-6a2f3e2cb4d7",
        "colab": {
          "base_uri": "https://localhost:8080/"
        }
      },
      "id": "Q90M8tw6PNoR",
      "execution_count": 28,
      "outputs": [
        {
          "output_type": "stream",
          "name": "stdout",
          "text": [
            "-0.9728134101578779\n",
            "-0.6666666666666667\n"
          ]
        }
      ]
    },
    {
      "cell_type": "code",
      "source": [
        "def z_score(i, x):\n",
        "    n= (i - sample_average(x))\n",
        "    return n/sample_standard_deviation(x)\n",
        "print(z_score(4.918, x))\n",
        "print(z_score(11, a))"
      ],
      "metadata": {
        "id": "VVN4w_qLQ7C5",
        "outputId": "c78ebd7c-7080-46f8-8db2-9783d57e1ea5",
        "colab": {
          "base_uri": "https://localhost:8080/"
        }
      },
      "id": "VVN4w_qLQ7C5",
      "execution_count": 46,
      "outputs": [
        {
          "output_type": "stream",
          "name": "stdout",
          "text": [
            "-6.175881808686528\n",
            "-1.4999999999999998\n"
          ]
        }
      ]
    },
    {
      "cell_type": "code",
      "source": [
        "# Trial 1\n",
        "def covariance(x, y):\n",
        "  for i in x:\n",
        "    for k in y:\n",
        "      return (i-sample_average(x))* (k- sample_average(y))/ ((len(x)+len(y))/2)-1"
      ],
      "metadata": {
        "id": "xmzUsrjWuRp3"
      },
      "id": "xmzUsrjWuRp3",
      "execution_count": 67,
      "outputs": []
    },
    {
      "cell_type": "code",
      "source": [
        "# Trial 2\n",
        "def covariance(x, y):\n",
        "  for i in x:\n",
        "    for k in y:\n",
        "      if x.index(i)==y.index(k):\n",
        "        n= (i-sample_average(x))* (k- sample_average(y))\n",
        "        N= ((len(x)+len(y))/2)\n",
        "      return n/N-1"
      ],
      "metadata": {
        "id": "8epZIEa61uWt"
      },
      "id": "8epZIEa61uWt",
      "execution_count": 88,
      "outputs": []
    },
    {
      "cell_type": "markdown",
      "id": "5924279e-4b74-4941-9819-f028ce3db974",
      "metadata": {
        "id": "5924279e-4b74-4941-9819-f028ce3db974"
      },
      "source": [
        "**Q4.** Optimization is at the core of data science and statistics: Picking the best fit or estimate according to some desirable criteria (e.g. Maximum Likelihood Estimation). In this question, you're going to write a function that finds the highest possible value for some function, and returns the value of the function and the maximizing value.\n",
        "\n",
        "1. Write a function that creates a grid from some value $a$ to a second value $b$ with $N$ steps, computes the value of a function $f$ on that grid, and then finds the maximizers of the function. Have it return a dictionary with the maximum value and the maximizers themselves.\n",
        "2. Use your function to maximize $f(x) = 100 - 2x^2 + 3x$ for values of $a=-1$, $b=1$, and for values of $N=3$, $N=10$, $N=100$, $N=1000$ and $N=5000$.\n",
        "3. The true maximizer of this function is $.75$ and the true maximum value is $101.125$. Is that what you got in the previous step? Why not? How does the quality of the maximization depend on $N$? How does your computed answer change as $N$ gets larger?"
      ]
    },
    {
      "cell_type": "code",
      "execution_count": null,
      "id": "c3b32977-7687-4770-8f12-2ab0593f2258",
      "metadata": {
        "id": "c3b32977-7687-4770-8f12-2ab0593f2258"
      },
      "outputs": [],
      "source": [
        "import numpy as np\n",
        "import matplotlib.pyplot as plt\n"
      ]
    },
    {
      "cell_type": "markdown",
      "id": "3c6e5e34-00c0-4101-a1af-34cf61d69ffc",
      "metadata": {
        "id": "3c6e5e34-00c0-4101-a1af-34cf61d69ffc"
      },
      "source": [
        "3."
      ]
    }
  ],
  "metadata": {
    "kernelspec": {
      "display_name": "Python 3 (ipykernel)",
      "language": "python",
      "name": "python3"
    },
    "language_info": {
      "codemirror_mode": {
        "name": "ipython",
        "version": 3
      },
      "file_extension": ".py",
      "mimetype": "text/x-python",
      "name": "python",
      "nbconvert_exporter": "python",
      "pygments_lexer": "ipython3",
      "version": "3.10.4"
    },
    "colab": {
      "provenance": []
    }
  },
  "nbformat": 4,
  "nbformat_minor": 5
}